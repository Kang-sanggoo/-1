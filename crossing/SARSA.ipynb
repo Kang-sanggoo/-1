{
 "cells": [
  {
   "cell_type": "code",
   "execution_count": 106,
   "id": "74ce8618-7ef1-437b-8bcf-2e9914dd6544",
   "metadata": {},
   "outputs": [],
   "source": [
    "import numpy as np\n",
    "import os\n",
    "import pandas as pd\n",
    "import random\n",
    "from collections import defaultdict\n",
    "import gym\n",
    "import gym_minigrid\n",
    "import matplotlib.pyplot as plt\n",
    "from IPython.display import clear_output\n",
    "import imageio\n",
    "import time\n",
    "%matplotlib inline"
   ]
  },
  {
   "cell_type": "code",
   "execution_count": 107,
   "id": "93013df0-fc7f-4866-9a48-8544a0592d6c",
   "metadata": {},
   "outputs": [],
   "source": [
    "class SARSA:\n",
    "    def __init__(self, actions, agent_indicator=10):\n",
    "        self.actions = actions\n",
    "        self.agent_indicator = agent_indicator\n",
    "        self.alpha = 0.01\n",
    "        self.gamma = 0.9\n",
    "        self.epsilon = 0.2\n",
    "        self.q_values = defaultdict(lambda: [0.0] * actions)\n",
    "        \n",
    "    def _convert_state(self, s):\n",
    "        return tuple(s.flatten())\n",
    "        \n",
    "    def update(self, state, action, reward, next_state, next_action):\n",
    "        state = self._convert_state(state)\n",
    "        next_state = self._convert_state(next_state)\n",
    "        \n",
    "        q_value = self.q_values[state][action]\n",
    "        next_q_value = self.q_values[next_state][next_action]\n",
    "        \n",
    "        td_error = reward + self.gamma * next_q_value - q_value\n",
    "        self.q_values[state][action] = q_value + self.alpha * td_error\n",
    "    \n",
    "    def act(self, state):\n",
    "        if np.random.rand() < self.epsilon:\n",
    "            action = np.random.choice(self.actions)\n",
    "        else:\n",
    "            state = self._convert_state(state)\n",
    "            q_values = self.q_values[state]\n",
    "            action = np.argmax(q_values)\n",
    "        return action"
   ]
  },
  {
   "cell_type": "code",
   "execution_count": 108,
   "id": "84d71c96-5a27-4cbd-a533-0e23898035b1",
   "metadata": {},
   "outputs": [],
   "source": [
    "def gen_wrapped_env():\n",
    "    env = gym.make('MiniGrid-LavaCrossingS9N1-v0')\n",
    "    env = gym_minigrid.wrappers.FullyObsWrapper(env)\n",
    "    return env"
   ]
  },
  {
   "cell_type": "code",
   "execution_count": 109,
   "id": "c50c7731-618b-4170-bad9-7b9e76d049b7",
   "metadata": {},
   "outputs": [],
   "source": [
    "def show_video(frames, path='./minigrid_crossing.mp4'):\n",
    "    with imageio.get_writer(path, fps=30) as video:\n",
    "        for frame in frames:\n",
    "            video.append_data(frame)\n",
    "    print(f\"Video saved to {path}\")"
   ]
  },
  {
   "cell_type": "code",
   "execution_count": 110,
   "id": "e1de01ca-0be6-45e2-ae91-650c3f8fe6db",
   "metadata": {},
   "outputs": [],
   "source": [
    "def train_sarsa_on_minigrid(episodes=10000):\n",
    "    env = gen_wrapped_env()\n",
    "    agent = SARSA(actions=env.action_space.n)\n",
    "    \n",
    "    reward_history = []\n",
    "    frames = []\n",
    "    \n",
    "    for episode in range(episodes):\n",
    "        state = env.reset()[\"image\"]\n",
    "        action = agent.act(state)\n",
    "        total_reward = 0\n",
    "        done = False\n",
    "        \n",
    "        while not done:\n",
    "            next_state, reward, done, _ = env.step(action)\n",
    "            next_state = next_state[\"image\"]\n",
    "            next_action = agent.act(next_state)\n",
    "            \n",
    "            agent.update(state, action, reward, next_state, next_action)\n",
    "            \n",
    "            state = next_state\n",
    "            action = next_action\n",
    "            total_reward += reward\n",
    "            \n",
    "            # Collect frames for video\n",
    "            frames.append(env.render(mode='rgb_array'))\n",
    "        \n",
    "        reward_history.append(total_reward)\n",
    "        \n",
    "        # Show progress and average reward periodically\n",
    "        if (episode + 1) % 20 == 0:\n",
    "            avg_reward = np.mean(reward_history[-20:])\n",
    "            progress = (episode + 1) / episodes * 100\n",
    "            print(f\"Episode: {episode + 1}, Rewards: {avg_reward:.2f}, Progress: {progress:.1f}%\")\n",
    "    \n",
    "    # Generate video of all episodes\n",
    "    show_video(frames)"
   ]
  },
  {
   "cell_type": "code",
   "execution_count": null,
   "id": "686351cd-a82e-4c14-a280-a9ded0315c02",
   "metadata": {},
   "outputs": [
    {
     "name": "stdout",
     "output_type": "stream",
     "text": [
      "Episode: 20, Rewards: 0.00, Progress: 0.2%\n",
      "Episode: 40, Rewards: 0.00, Progress: 0.4%\n",
      "Episode: 60, Rewards: 0.00, Progress: 0.6%\n",
      "Episode: 80, Rewards: 0.00, Progress: 0.8%\n",
      "Episode: 100, Rewards: 0.00, Progress: 1.0%\n",
      "Episode: 120, Rewards: 0.00, Progress: 1.2%\n",
      "Episode: 140, Rewards: 0.00, Progress: 1.4%\n",
      "Episode: 160, Rewards: 0.00, Progress: 1.6%\n",
      "Episode: 180, Rewards: 0.00, Progress: 1.8%\n",
      "Episode: 200, Rewards: 0.00, Progress: 2.0%\n",
      "Episode: 220, Rewards: 0.00, Progress: 2.2%\n",
      "Episode: 240, Rewards: 0.00, Progress: 2.4%\n",
      "Episode: 260, Rewards: 0.00, Progress: 2.6%\n",
      "Episode: 280, Rewards: 0.00, Progress: 2.8%\n",
      "Episode: 300, Rewards: 0.00, Progress: 3.0%\n",
      "Episode: 320, Rewards: 0.00, Progress: 3.2%\n"
     ]
    }
   ],
   "source": [
    "train_sarsa_on_minigrid(episodes=10000)"
   ]
  }
 ],
 "metadata": {
  "kernelspec": {
   "display_name": "Python 3 (ipykernel)",
   "language": "python",
   "name": "python3"
  },
  "language_info": {
   "codemirror_mode": {
    "name": "ipython",
    "version": 3
   },
   "file_extension": ".py",
   "mimetype": "text/x-python",
   "name": "python",
   "nbconvert_exporter": "python",
   "pygments_lexer": "ipython3",
   "version": "3.11.7"
  }
 },
 "nbformat": 4,
 "nbformat_minor": 5
}
